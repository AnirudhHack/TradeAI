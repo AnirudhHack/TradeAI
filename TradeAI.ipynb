{
  "cells": [
    {
      "cell_type": "markdown",
      "metadata": {
        "id": "oC7VhOS-pldf"
      },
      "source": [
        "ADD API KEYS required below:"
      ]
    },
    {
      "cell_type": "code",
      "execution_count": 1,
      "metadata": {
        "id": "Qz5oULLijt5e"
      },
      "outputs": [],
      "source": [
        "\n",
        "TAVILY_API_KEY = \"\"\n",
        "COIN_API_KEY = \"\"\n",
        "GOOGLE_GEMINI_API_KEY=\"\""
      ]
    },
    {
      "cell_type": "markdown",
      "metadata": {
        "id": "np9bN8SOpuVb"
      },
      "source": [
        "# **Step 1 fetch latest news data from  Tavily**"
      ]
    },
    {
      "cell_type": "code",
      "execution_count": 2,
      "metadata": {
        "id": "J7zY1TyAm_bd"
      },
      "outputs": [],
      "source": [
        "import os\n",
        "import requests\n",
        "\n",
        "def fetch_tavily_data(query: dict) -> dict:\n",
        "    \"\"\"\n",
        "    Fetches data from the Tavily API.\n",
        "\n",
        "    Args:\n",
        "        query (dict): A dictionary containing query parameters.\n",
        "\n",
        "    Returns:\n",
        "        dict: The response data from the Tavily API, or None if an error occurs.\n",
        "    \"\"\"\n",
        "    query_params = query.get('params', {})\n",
        "\n",
        "    print(\"param1\", query_params)\n",
        "\n",
        "    payload = {\n",
        "        \"api_key\": TAVILY_API_KEY,\n",
        "        \"query\": query_params.get('query'),\n",
        "        \"search_depth\": query_params.get('search_depth', \"basic\"),\n",
        "        \"include_answer\": True,  # query_params.get('include_answer', False),\n",
        "        \"max_results\": query_params.get('max_results', 5),\n",
        "        # \"include_domains\": query_params.get('include_domains', []),\n",
        "        # \"exclude_domains\": query_params.get('exclude_domains', [])\n",
        "    }\n",
        "\n",
        "    try:\n",
        "        response = requests.post(\"https://api.tavily.com/search\", json=payload)\n",
        "        response.raise_for_status()  # Raise an error for HTTP status codes 4xx/5xx\n",
        "        print(\"Tavily response\", response.json())\n",
        "        return response.json()\n",
        "    except requests.exceptions.RequestException as error:\n",
        "        print(\"Error fetching data from Tavily:\", error)\n",
        "        return None\n"
      ]
    },
    {
      "cell_type": "code",
      "execution_count": 3,
      "metadata": {
        "colab": {
          "base_uri": "https://localhost:8080/"
        },
        "id": "r-0HHrNkgWCZ",
        "outputId": "00abaca0-afb8-4e14-954a-1c0727fd8065"
      },
      "outputs": [
        {
          "name": "stdout",
          "output_type": "stream",
          "text": [
            "param1 {'query': 'BTC latest news 12 jan 2025', 'search_depth': 'detailed', 'max_results': 4}\n",
            "Tavily response {'query': 'BTC latest news 12 jan 2025', 'follow_up_questions': None, 'answer': 'On January 12, 2025, the total cryptocurrency market cap was $3.36 trillion with a 1.01% increase on the day. Bitcoin analysts are predicting a recovery rally with a price range forecasted between $95,000 and $110,000 by the end of January. Additionally, there are expectations for Bitcoin to potentially double to $250,000 within a year and for the crypto market capitalization to surpass that of gold in the next decade. The current Bitcoin price prediction suggests a potential rise of 26.37% to reach $120,175 by February 11, 2025.', 'images': [], 'results': [{'title': 'TFUEL up +30.63%, BTC +0.21%, Cardano is The Coin of The Day - CoinCodex', 'url': 'https://coincodex.com/article/60861/daily-market-update-for-january-12-2025/', 'content': 'All prices and changes are presented at the time of publication: January 12, 2025, at 06:00 UTC; Market Overview. The total cryptocurrency market cap is currently $ 3.36T after a 1.01% increase on the day. The total crypto trading volume increased by 1.01% in the same time frame.', 'score': 0.8306082, 'raw_content': None}, {'title': 'Bitcoin (BTC) price predictions for 2025', 'url': 'https://www.cnbc.com/2024/12/31/bitcoin-btc-price-predictions-for-2025.html', 'content': 'After a blistering 150% rally in bitcoin this year, crypto investors and industry executives told CNBC they’re expecting the flagship cryptocurrency to hit new all-time highs in 2025. Pension funds should also start including more bitcoin in their portfolio via U.S. spot ETFs next year thanks to anticipated reforms from the incoming Trump administration to rules on so-called “TradFi” (traditional finance) firms making investments in digital currencies, he added. “We see bitcoin more than doubling to $250,000 within a year,” Taskova told CNBC, adding that in the longer term — as in, over the next decade — she sees the entire crypto market capitalization surpassing that of gold.', 'score': 0.8029425, 'raw_content': None}, {'title': 'Bitcoin needs trading volume boost to rally above $105K in January', 'url': 'https://cointelegraph.com/news/bitcoin-recovery-rally-prediction-january-2025', 'content': 'Bitcoin analysts are forecasting an imminent recovery rally despite signs of holiday-driven market illiquidity that contributed to December’s price correction. We see Bitcoin ranging between $95,000 and $110,000 by the end of January,” Bitfinex analysts told Cointelegraph. The predictions follow analyst calls for a $200,000 Bitcoin price top during 2025 bolstered by the record-breaking growth of the US spot Bitcoin exchange-traded funds (ETFs), which are nearing $110 billion in assets under management. To stage a recovery rally above the six-figure mark, Bitcoin still needs to accumulate more trading volume, wrote CryptoQuant analyst Axel Adler. #Bitcoin #Bitcoin Price #Bitcoin Analysis Cointelegraph covers fintech, blockchain and Bitcoin bringing you the latest crypto news and analyses on the future of money.', 'score': 0.78154784, 'raw_content': None}, {'title': 'Bitcoin (BTC) Price Prediction 2025, 2026-2030 | CoinCodex', 'url': 'https://coincodex.com/crypto/bitcoin/price-prediction/', 'content': \"According to our current Bitcoin price prediction, the price of Bitcoin is predicted to rise by 26.37% and reach $ 120,175 by February 11, 2025.Per our technical indicators, the current sentiment is Bearish while the Fear & Greed Index is showing 62 (Greed).Bitcoin recorded 16/30 (53%) green days with 3.64% price volatility over the last 30 days. . Based on the Bitcoin forecast, it's now a bad\", 'score': 0.73914057, 'raw_content': None}], 'response_time': 3.34}\n"
          ]
        }
      ],
      "source": [
        "from datetime import datetime\n",
        "\n",
        "# Get the current date in \"YYYY-MM-DD\" format\n",
        "current_date = datetime.utcnow().strftime(\"%b %d, %Y\")  # Example: \"Jan 13, 2025\"\n",
        "\n",
        "query = {\n",
        "    \"params\": {\n",
        "        \"query\": f\"BTC latest news {current_date}\",\n",
        "        \"search_depth\": \"detailed\",\n",
        "        \"max_results\": 4,\n",
        "    }\n",
        "}\n",
        "result = fetch_tavily_data(query)\n",
        "print(query)"
      ]
    },
    {
      "cell_type": "code",
      "execution_count": 4,
      "metadata": {
        "colab": {
          "base_uri": "https://localhost:8080/"
        },
        "id": "4NU7zlRkgZzn",
        "outputId": "872f3420-fe8f-4185-c843-24027766db06"
      },
      "outputs": [
        {
          "data": {
            "text/plain": [
              "[{'title': 'TFUEL up +30.63%, BTC +0.21%, Cardano is The Coin of The Day - CoinCodex',\n",
              "  'url': 'https://coincodex.com/article/60861/daily-market-update-for-january-12-2025/',\n",
              "  'content': 'All prices and changes are presented at the time of publication: January 12, 2025, at 06:00 UTC; Market Overview. The total cryptocurrency market cap is currently $ 3.36T after a 1.01% increase on the day. The total crypto trading volume increased by 1.01% in the same time frame.',\n",
              "  'score': 0.8306082,\n",
              "  'raw_content': None},\n",
              " {'title': 'Bitcoin (BTC) price predictions for 2025',\n",
              "  'url': 'https://www.cnbc.com/2024/12/31/bitcoin-btc-price-predictions-for-2025.html',\n",
              "  'content': 'After a blistering 150% rally in bitcoin this year, crypto investors and industry executives told CNBC they’re expecting the flagship cryptocurrency to hit new all-time highs in 2025. Pension funds should also start including more bitcoin in their portfolio via U.S. spot ETFs next year thanks to anticipated reforms from the incoming Trump administration to rules on so-called “TradFi” (traditional finance) firms making investments in digital currencies, he added. “We see bitcoin more than doubling to $250,000 within a year,” Taskova told CNBC, adding that in the longer term — as in, over the next decade — she sees the entire crypto market capitalization surpassing that of gold.',\n",
              "  'score': 0.8029425,\n",
              "  'raw_content': None},\n",
              " {'title': 'Bitcoin needs trading volume boost to rally above $105K in January',\n",
              "  'url': 'https://cointelegraph.com/news/bitcoin-recovery-rally-prediction-january-2025',\n",
              "  'content': 'Bitcoin analysts are forecasting an imminent recovery rally despite signs of holiday-driven market illiquidity that contributed to December’s price correction. We see Bitcoin ranging between $95,000 and $110,000 by the end of January,” Bitfinex analysts told Cointelegraph. The predictions follow analyst calls for a $200,000 Bitcoin price top during 2025 bolstered by the record-breaking growth of the US spot Bitcoin exchange-traded funds (ETFs), which are nearing $110 billion in assets under management. To stage a recovery rally above the six-figure mark, Bitcoin still needs to accumulate more trading volume, wrote CryptoQuant analyst Axel Adler. #Bitcoin #Bitcoin Price #Bitcoin Analysis Cointelegraph covers fintech, blockchain and Bitcoin bringing you the latest crypto news and analyses on the future of money.',\n",
              "  'score': 0.78154784,\n",
              "  'raw_content': None},\n",
              " {'title': 'Bitcoin (BTC) Price Prediction 2025, 2026-2030 | CoinCodex',\n",
              "  'url': 'https://coincodex.com/crypto/bitcoin/price-prediction/',\n",
              "  'content': \"According to our current Bitcoin price prediction, the price of Bitcoin is predicted to rise by 26.37% and reach $ 120,175 by February 11, 2025.Per our technical indicators, the current sentiment is Bearish while the Fear & Greed Index is showing 62 (Greed).Bitcoin recorded 16/30 (53%) green days with 3.64% price volatility over the last 30 days. . Based on the Bitcoin forecast, it's now a bad\",\n",
              "  'score': 0.73914057,\n",
              "  'raw_content': None}]"
            ]
          },
          "execution_count": 4,
          "metadata": {},
          "output_type": "execute_result"
        }
      ],
      "source": [
        "result['results']"
      ]
    },
    {
      "cell_type": "markdown",
      "metadata": {
        "id": "Jq5S3Ywjp1j1"
      },
      "source": [
        "# **Step 2: Fetch OPEN, High, LOW, Close data from CoinAPI for BTC/USDT**"
      ]
    },
    {
      "cell_type": "code",
      "execution_count": 5,
      "metadata": {
        "colab": {
          "base_uri": "https://localhost:8080/"
        },
        "id": "NWDFjcEb1P0_",
        "outputId": "4aac7a62-ccc5-467f-b54b-924ca354db72"
      },
      "outputs": [
        {
          "name": "stdout",
          "output_type": "stream",
          "text": [
            "2025-01-10T12:13:40\n",
            "2024-12-14T12:13:40\n",
            "2024-10-15T12:13:40\n",
            "\n",
            "5-Minute Overall Sentiment:\n",
            "Sentiment: Bearish, Breakdown: {'Bearish': 0.53, 'Bullish': 0.47}\n",
            "\n",
            "1-Day Overall Sentiment:\n",
            "Sentiment: Bullish, Breakdown: {'Bullish': 0.5, 'Bearish': 0.5}\n",
            "\n",
            "1-Month Overall Sentiment:\n",
            "Sentiment: Bullish, Breakdown: {'Bullish': 0.5, 'Bearish': 0.5}\n"
          ]
        }
      ],
      "source": [
        "\n",
        "from datetime import datetime, timedelta\n",
        "\n",
        "import requests\n",
        "import pandas as pd\n",
        "\n",
        "\n",
        "# Function to fetch OHLCV data\n",
        "def fetch_ohlcv(symbol, period_id, time_start):\n",
        "    dt_object = datetime.strptime(time_start, \"%Y-%m-%dT%H:%M:%S.%f\")\n",
        "\n",
        "    # Format to string without microseconds\n",
        "    formatted_timestamp = dt_object.strftime(\"%Y-%m-%dT%H:%M:%S\")\n",
        "    print(formatted_timestamp)\n",
        "    url = f\"https://rest.coinapi.io/v1/ohlcv/{symbol}/history?period_id={period_id}&time_start={formatted_timestamp}\"\n",
        "\n",
        "    headers = {\"X-CoinAPI-Key\": COIN_API_KEY}  # Replace with your API key\n",
        "    params = {\n",
        "        \"period_id\": period_id,\n",
        "        \"time_start\": time_start\n",
        "    }\n",
        "\n",
        "    response = requests.get(url, headers=headers, params=params)\n",
        "    if response.status_code == 200:\n",
        "        if response.content:\n",
        "            return response.json()\n",
        "        else:\n",
        "            print(f\"Response for {period_id} is empty.\")\n",
        "            return []\n",
        "    else:\n",
        "        print(f\"Failed to fetch {period_id} data. Status code: {response.status_code}\")\n",
        "        return []\n",
        "\n",
        "# Function to determine overall sentiment\n",
        "def determine_overall_sentiment(data):\n",
        "    df = pd.DataFrame(data)\n",
        "    df = df[['price_open', 'price_close']]\n",
        "\n",
        "    # Calculate sentiment for each candle\n",
        "    def sentiment(row):\n",
        "        if row['price_close'] > row['price_open']:\n",
        "            return \"Bullish\"\n",
        "        elif row['price_close'] < row['price_open']:\n",
        "            return \"Bearish\"\n",
        "        else:\n",
        "            return \"Neutral\"\n",
        "\n",
        "    df['Sentiment'] = df.apply(sentiment, axis=1)\n",
        "\n",
        "    # Calculate overall sentiment\n",
        "    sentiment_counts = df['Sentiment'].value_counts(normalize=True)\n",
        "    overall_sentiment = sentiment_counts.idxmax()  # Dominant sentiment\n",
        "    return overall_sentiment, sentiment_counts.to_dict()\n",
        "\n",
        "# Get current time and calculate start times for each timeframe\n",
        "current_time = datetime.utcnow()\n",
        "start_times = {\n",
        "    \"5MIN\": (current_time - timedelta(days=3)).isoformat(),\n",
        "    \"1DAY\": (current_time - timedelta(days=30)).isoformat(),\n",
        "    \"1MTH\": (current_time - timedelta(days=90)).isoformat()\n",
        "}\n",
        "\n",
        "# Fetch data for different timeframes\n",
        "symbol = \"BINANCE_SPOT_BTC_USDT\"  # Example symbol\n",
        "\n",
        "data_5min = fetch_ohlcv(symbol, \"5MIN\", start_times[\"5MIN\"])\n",
        "data_1day = fetch_ohlcv(symbol, \"1DAY\", start_times[\"1DAY\"])\n",
        "data_1month = fetch_ohlcv(symbol, \"1MTH\", start_times[\"1MTH\"])\n",
        "\n",
        "# Determine overall sentiment for each timeframe\n",
        "if data_5min:\n",
        "    sentiment_5min, breakdown_5min = determine_overall_sentiment(data_5min)\n",
        "    print(\"\\n5-Minute Overall Sentiment:\")\n",
        "    print(f\"Sentiment: {sentiment_5min}, Breakdown: {breakdown_5min}\")\n",
        "\n",
        "if data_1day:\n",
        "    sentiment_1day, breakdown_1day = determine_overall_sentiment(data_1day)\n",
        "    print(\"\\n1-Day Overall Sentiment:\")\n",
        "    print(f\"Sentiment: {sentiment_1day}, Breakdown: {breakdown_1day}\")\n",
        "\n",
        "if data_1month:\n",
        "    sentiment_1month, breakdown_1month = determine_overall_sentiment(data_1month)\n",
        "    print(\"\\n1-Month Overall Sentiment:\")\n",
        "    print(f\"Sentiment: {sentiment_1month}, Breakdown: {breakdown_1month}\")\n"
      ]
    },
    {
      "cell_type": "code",
      "execution_count": 40,
      "metadata": {
        "colab": {
          "base_uri": "https://localhost:8080/",
          "height": 559
        },
        "id": "fziyaoSvolJS",
        "outputId": "1166231b-35c6-4e31-f2fa-9dd4242679a2"
      },
      "outputs": [
        {
          "name": "stdout",
          "output_type": "stream",
          "text": [
            "2024-10-15T12:14:24\n"
          ]
        },
        {
          "data": {
            "text/html": [
              "<html>\n",
              "<head><meta charset=\"utf-8\" /></head>\n",
              "<body>\n",
              "    <div>            <script src=\"https://cdnjs.cloudflare.com/ajax/libs/mathjax/2.7.5/MathJax.js?config=TeX-AMS-MML_SVG\"></script><script type=\"text/javascript\">if (window.MathJax && window.MathJax.Hub && window.MathJax.Hub.Config) {window.MathJax.Hub.Config({SVG: {font: \"STIX-Web\"}});}</script>                <script type=\"text/javascript\">window.PlotlyConfig = {MathJaxConfig: 'local'};</script>\n",
              "        <script charset=\"utf-8\" src=\"https://cdn.plot.ly/plotly-2.35.2.min.js\"></script>                <div id=\"077eb1ee-8797-4e24-b4d3-ace89b747576\" class=\"plotly-graph-div\" style=\"height:525px; width:100%;\"></div>            <script type=\"text/javascript\">                                    window.PLOTLYENV=window.PLOTLYENV || {};                                    if (document.getElementById(\"077eb1ee-8797-4e24-b4d3-ace89b747576\")) {                    Plotly.newPlot(                        \"077eb1ee-8797-4e24-b4d3-ace89b747576\",                        [{\"close\":[67620.01,67421.78,68428.0,68378.0,69031.99,67377.5,67426.0,66668.65,68198.28,66698.33,67092.76,68021.69,69962.21,72736.42,72344.74,70292.01,69496.01,69374.74,68775.99,67850.01,69372.01,75571.99,75857.89,76509.78,76677.46,80370.01,88647.99,87952.01,90375.2,87325.59,91032.07,90586.92,89855.99,90464.08,92310.79,94286.56,98317.12,98892.0,97672.4,97900.04,93010.01,91965.16,95863.11,95643.98,97460.0,96407.99,97185.17,95840.62,95849.69,98587.32,96945.63,99740.84,99831.99,101109.59,97276.47,96593.0,101125.0,100004.29,101424.25,101420.0,104463.99,106058.66,106133.74,100204.01,97461.86,97805.44,97291.99,95186.27,94881.47,98663.58,99429.6,95791.6,94299.03,95300.0,93738.2,92792.05,93576.0,94591.79,96984.79,98174.18,98220.5,98363.61,102235.6,96954.61,95060.61,92552.49,94726.11,94599.99,94545.06,90761.94],\"high\":[68424.0,67939.4,69000.0,68693.26,69400.0,69519.52,67836.01,67472.83,68850.0,68771.49,67454.55,68332.05,70270.0,73620.12,72961.0,72700.0,71632.95,69914.37,69391.0,69500.0,70577.91,76400.0,76849.99,77199.99,76900.0,81500.0,89530.54,89940.0,93265.64,91790.0,91850.0,91779.66,91449.99,92594.0,93905.51,94831.97,98988.0,99588.01,98908.85,98564.0,98871.8,94973.37,97208.21,96564.0,98563.99,97463.95,97836.0,98130.0,96305.52,99000.0,103579.99,101898.99,100439.18,101351.0,101049.99,98270.0,101888.0,102540.0,101895.26,102650.0,104951.72,107793.07,108353.0,106524.98,102800.11,98233.0,99540.61,97448.08,96538.92,99487.99,99569.15,99963.7,97332.4,95733.99,95340.0,95024.5,96250.0,95151.15,97839.5,98976.91,98778.43,98836.85,102465.6,102724.38,97268.65,95382.32,95836.0,95050.94,95450.1,95918.52],\"low\":[66750.49,66666.0,67192.36,68010.0,68100.0,66840.67,66571.42,65260.0,66510.0,65610.35,66439.9,66913.73,67618.0,69760.0,71436.0,69685.76,68820.14,69000.14,67478.73,66835.0,67476.63,69298.0,74416.0,75555.0,75714.66,76492.0,80216.01,85130.01,86127.99,86668.21,87073.38,90056.17,88722.0,89376.9,90357.0,91500.0,94040.0,97122.11,97155.09,95747.57,92600.19,90791.1,91792.14,94640.0,95364.99,96092.01,95693.88,94395.0,93713.31,94587.83,94440.0,96388.0,98844.0,98657.7,95366.57,94256.54,95658.24,99311.64,99205.0,100609.41,101237.14,103333.0,105321.49,100000.0,95724.56,92337.11,96398.39,94250.35,92520.0,93569.02,97632.02,95199.14,93500.01,94135.66,93009.52,91530.45,92033.73,92888.0,94392.0,96100.01,97514.79,97305.05,97920.0,96181.81,92751.0,91210.48,92206.02,93831.73,93711.19,90555.0],\"name\":\"Candlestick Chart\",\"open\":[67074.14,67620.0,67421.78,68427.99,68377.99,69032.0,67377.5,67426.01,66668.65,68198.27,66698.32,67092.76,68021.7,69962.21,72736.41,72344.75,70292.01,69496.0,69374.74,68775.99,67850.01,69372.01,75571.99,75857.89,76509.78,76677.46,80370.01,88648.0,87952.0,90375.21,87325.59,91032.08,90587.98,89716.73,90423.99,92310.8,94239.99,98280.0,98892.0,97672.4,97870.49,93010.01,91965.16,95863.11,95643.99,97460.0,96407.99,97185.17,95840.61,95849.69,98587.32,96945.63,99740.84,99831.99,101028.0,97276.0,96620.0,101125.0,100004.29,101424.24,101371.05,104456.0,106058.65,106133.74,100204.01,97461.86,97805.44,97292.0,95186.28,94881.47,98663.58,99429.61,95791.6,94299.03,95300.0,93738.19,92792.05,93576.0,94591.78,96984.79,98174.17,98220.51,98363.61,102235.6,96954.6,95060.61,92552.49,94726.1,94599.99,94545.07],\"x\":[\"2024-10-16T00:00:00+00:00\",\"2024-10-17T00:00:00+00:00\",\"2024-10-18T00:00:00+00:00\",\"2024-10-19T00:00:00+00:00\",\"2024-10-20T00:00:00+00:00\",\"2024-10-21T00:00:00+00:00\",\"2024-10-22T00:00:00+00:00\",\"2024-10-23T00:00:00+00:00\",\"2024-10-24T00:00:00+00:00\",\"2024-10-25T00:00:00+00:00\",\"2024-10-26T00:00:00+00:00\",\"2024-10-27T00:00:00+00:00\",\"2024-10-28T00:00:00+00:00\",\"2024-10-29T00:00:00+00:00\",\"2024-10-30T00:00:00+00:00\",\"2024-10-31T00:00:00+00:00\",\"2024-11-01T00:00:00+00:00\",\"2024-11-02T00:00:00+00:00\",\"2024-11-03T00:00:00+00:00\",\"2024-11-04T00:00:00+00:00\",\"2024-11-05T00:00:00+00:00\",\"2024-11-06T00:00:00+00:00\",\"2024-11-07T00:00:00+00:00\",\"2024-11-08T00:00:00+00:00\",\"2024-11-09T00:00:00+00:00\",\"2024-11-10T00:00:00+00:00\",\"2024-11-11T00:00:00+00:00\",\"2024-11-12T00:00:00+00:00\",\"2024-11-13T00:00:00+00:00\",\"2024-11-14T00:00:00+00:00\",\"2024-11-15T00:00:00+00:00\",\"2024-11-16T00:00:00+00:00\",\"2024-11-17T00:00:00+00:00\",\"2024-11-18T00:00:00+00:00\",\"2024-11-19T00:00:00+00:00\",\"2024-11-20T00:00:00+00:00\",\"2024-11-21T00:00:00+00:00\",\"2024-11-22T00:00:00+00:00\",\"2024-11-23T00:00:00+00:00\",\"2024-11-24T00:00:00+00:00\",\"2024-11-25T00:00:00+00:00\",\"2024-11-26T00:00:00+00:00\",\"2024-11-27T00:00:00+00:00\",\"2024-11-28T00:00:00+00:00\",\"2024-11-29T00:00:00+00:00\",\"2024-11-30T00:00:00+00:00\",\"2024-12-01T00:00:00+00:00\",\"2024-12-02T00:00:00+00:00\",\"2024-12-03T00:00:00+00:00\",\"2024-12-04T00:00:00+00:00\",\"2024-12-05T00:00:00+00:00\",\"2024-12-06T00:00:00+00:00\",\"2024-12-07T00:00:00+00:00\",\"2024-12-08T00:00:00+00:00\",\"2024-12-09T00:00:00+00:00\",\"2024-12-10T00:00:00+00:00\",\"2024-12-11T00:00:00+00:00\",\"2024-12-12T00:00:00+00:00\",\"2024-12-13T00:00:00+00:00\",\"2024-12-14T00:00:00+00:00\",\"2024-12-15T00:00:00+00:00\",\"2024-12-16T00:00:00+00:00\",\"2024-12-17T00:00:00+00:00\",\"2024-12-18T00:00:00+00:00\",\"2024-12-19T00:00:00+00:00\",\"2024-12-20T00:00:00+00:00\",\"2024-12-21T00:00:00+00:00\",\"2024-12-22T00:00:00+00:00\",\"2024-12-23T00:00:00+00:00\",\"2024-12-24T00:00:00+00:00\",\"2024-12-25T00:00:00+00:00\",\"2024-12-26T00:00:00+00:00\",\"2024-12-27T00:00:00+00:00\",\"2024-12-28T00:00:00+00:00\",\"2024-12-29T00:00:00+00:00\",\"2024-12-30T00:00:00+00:00\",\"2024-12-31T00:00:00+00:00\",\"2025-01-01T00:00:00+00:00\",\"2025-01-02T00:00:00+00:00\",\"2025-01-03T00:00:00+00:00\",\"2025-01-04T00:00:00+00:00\",\"2025-01-05T00:00:00+00:00\",\"2025-01-06T00:00:00+00:00\",\"2025-01-07T00:00:00+00:00\",\"2025-01-08T00:00:00+00:00\",\"2025-01-09T00:00:00+00:00\",\"2025-01-10T00:00:00+00:00\",\"2025-01-11T00:00:00+00:00\",\"2025-01-12T00:00:00+00:00\",\"2025-01-13T00:00:00+00:00\"],\"type\":\"candlestick\"}],                        {\"template\":{\"data\":{\"barpolar\":[{\"marker\":{\"line\":{\"color\":\"rgb(17,17,17)\",\"width\":0.5},\"pattern\":{\"fillmode\":\"overlay\",\"size\":10,\"solidity\":0.2}},\"type\":\"barpolar\"}],\"bar\":[{\"error_x\":{\"color\":\"#f2f5fa\"},\"error_y\":{\"color\":\"#f2f5fa\"},\"marker\":{\"line\":{\"color\":\"rgb(17,17,17)\",\"width\":0.5},\"pattern\":{\"fillmode\":\"overlay\",\"size\":10,\"solidity\":0.2}},\"type\":\"bar\"}],\"carpet\":[{\"aaxis\":{\"endlinecolor\":\"#A2B1C6\",\"gridcolor\":\"#506784\",\"linecolor\":\"#506784\",\"minorgridcolor\":\"#506784\",\"startlinecolor\":\"#A2B1C6\"},\"baxis\":{\"endlinecolor\":\"#A2B1C6\",\"gridcolor\":\"#506784\",\"linecolor\":\"#506784\",\"minorgridcolor\":\"#506784\",\"startlinecolor\":\"#A2B1C6\"},\"type\":\"carpet\"}],\"choropleth\":[{\"colorbar\":{\"outlinewidth\":0,\"ticks\":\"\"},\"type\":\"choropleth\"}],\"contourcarpet\":[{\"colorbar\":{\"outlinewidth\":0,\"ticks\":\"\"},\"type\":\"contourcarpet\"}],\"contour\":[{\"colorbar\":{\"outlinewidth\":0,\"ticks\":\"\"},\"colorscale\":[[0.0,\"#0d0887\"],[0.1111111111111111,\"#46039f\"],[0.2222222222222222,\"#7201a8\"],[0.3333333333333333,\"#9c179e\"],[0.4444444444444444,\"#bd3786\"],[0.5555555555555556,\"#d8576b\"],[0.6666666666666666,\"#ed7953\"],[0.7777777777777778,\"#fb9f3a\"],[0.8888888888888888,\"#fdca26\"],[1.0,\"#f0f921\"]],\"type\":\"contour\"}],\"heatmapgl\":[{\"colorbar\":{\"outlinewidth\":0,\"ticks\":\"\"},\"colorscale\":[[0.0,\"#0d0887\"],[0.1111111111111111,\"#46039f\"],[0.2222222222222222,\"#7201a8\"],[0.3333333333333333,\"#9c179e\"],[0.4444444444444444,\"#bd3786\"],[0.5555555555555556,\"#d8576b\"],[0.6666666666666666,\"#ed7953\"],[0.7777777777777778,\"#fb9f3a\"],[0.8888888888888888,\"#fdca26\"],[1.0,\"#f0f921\"]],\"type\":\"heatmapgl\"}],\"heatmap\":[{\"colorbar\":{\"outlinewidth\":0,\"ticks\":\"\"},\"colorscale\":[[0.0,\"#0d0887\"],[0.1111111111111111,\"#46039f\"],[0.2222222222222222,\"#7201a8\"],[0.3333333333333333,\"#9c179e\"],[0.4444444444444444,\"#bd3786\"],[0.5555555555555556,\"#d8576b\"],[0.6666666666666666,\"#ed7953\"],[0.7777777777777778,\"#fb9f3a\"],[0.8888888888888888,\"#fdca26\"],[1.0,\"#f0f921\"]],\"type\":\"heatmap\"}],\"histogram2dcontour\":[{\"colorbar\":{\"outlinewidth\":0,\"ticks\":\"\"},\"colorscale\":[[0.0,\"#0d0887\"],[0.1111111111111111,\"#46039f\"],[0.2222222222222222,\"#7201a8\"],[0.3333333333333333,\"#9c179e\"],[0.4444444444444444,\"#bd3786\"],[0.5555555555555556,\"#d8576b\"],[0.6666666666666666,\"#ed7953\"],[0.7777777777777778,\"#fb9f3a\"],[0.8888888888888888,\"#fdca26\"],[1.0,\"#f0f921\"]],\"type\":\"histogram2dcontour\"}],\"histogram2d\":[{\"colorbar\":{\"outlinewidth\":0,\"ticks\":\"\"},\"colorscale\":[[0.0,\"#0d0887\"],[0.1111111111111111,\"#46039f\"],[0.2222222222222222,\"#7201a8\"],[0.3333333333333333,\"#9c179e\"],[0.4444444444444444,\"#bd3786\"],[0.5555555555555556,\"#d8576b\"],[0.6666666666666666,\"#ed7953\"],[0.7777777777777778,\"#fb9f3a\"],[0.8888888888888888,\"#fdca26\"],[1.0,\"#f0f921\"]],\"type\":\"histogram2d\"}],\"histogram\":[{\"marker\":{\"pattern\":{\"fillmode\":\"overlay\",\"size\":10,\"solidity\":0.2}},\"type\":\"histogram\"}],\"mesh3d\":[{\"colorbar\":{\"outlinewidth\":0,\"ticks\":\"\"},\"type\":\"mesh3d\"}],\"parcoords\":[{\"line\":{\"colorbar\":{\"outlinewidth\":0,\"ticks\":\"\"}},\"type\":\"parcoords\"}],\"pie\":[{\"automargin\":true,\"type\":\"pie\"}],\"scatter3d\":[{\"line\":{\"colorbar\":{\"outlinewidth\":0,\"ticks\":\"\"}},\"marker\":{\"colorbar\":{\"outlinewidth\":0,\"ticks\":\"\"}},\"type\":\"scatter3d\"}],\"scattercarpet\":[{\"marker\":{\"colorbar\":{\"outlinewidth\":0,\"ticks\":\"\"}},\"type\":\"scattercarpet\"}],\"scattergeo\":[{\"marker\":{\"colorbar\":{\"outlinewidth\":0,\"ticks\":\"\"}},\"type\":\"scattergeo\"}],\"scattergl\":[{\"marker\":{\"line\":{\"color\":\"#283442\"}},\"type\":\"scattergl\"}],\"scattermapbox\":[{\"marker\":{\"colorbar\":{\"outlinewidth\":0,\"ticks\":\"\"}},\"type\":\"scattermapbox\"}],\"scatterpolargl\":[{\"marker\":{\"colorbar\":{\"outlinewidth\":0,\"ticks\":\"\"}},\"type\":\"scatterpolargl\"}],\"scatterpolar\":[{\"marker\":{\"colorbar\":{\"outlinewidth\":0,\"ticks\":\"\"}},\"type\":\"scatterpolar\"}],\"scatter\":[{\"marker\":{\"line\":{\"color\":\"#283442\"}},\"type\":\"scatter\"}],\"scatterternary\":[{\"marker\":{\"colorbar\":{\"outlinewidth\":0,\"ticks\":\"\"}},\"type\":\"scatterternary\"}],\"surface\":[{\"colorbar\":{\"outlinewidth\":0,\"ticks\":\"\"},\"colorscale\":[[0.0,\"#0d0887\"],[0.1111111111111111,\"#46039f\"],[0.2222222222222222,\"#7201a8\"],[0.3333333333333333,\"#9c179e\"],[0.4444444444444444,\"#bd3786\"],[0.5555555555555556,\"#d8576b\"],[0.6666666666666666,\"#ed7953\"],[0.7777777777777778,\"#fb9f3a\"],[0.8888888888888888,\"#fdca26\"],[1.0,\"#f0f921\"]],\"type\":\"surface\"}],\"table\":[{\"cells\":{\"fill\":{\"color\":\"#506784\"},\"line\":{\"color\":\"rgb(17,17,17)\"}},\"header\":{\"fill\":{\"color\":\"#2a3f5f\"},\"line\":{\"color\":\"rgb(17,17,17)\"}},\"type\":\"table\"}]},\"layout\":{\"annotationdefaults\":{\"arrowcolor\":\"#f2f5fa\",\"arrowhead\":0,\"arrowwidth\":1},\"autotypenumbers\":\"strict\",\"coloraxis\":{\"colorbar\":{\"outlinewidth\":0,\"ticks\":\"\"}},\"colorscale\":{\"diverging\":[[0,\"#8e0152\"],[0.1,\"#c51b7d\"],[0.2,\"#de77ae\"],[0.3,\"#f1b6da\"],[0.4,\"#fde0ef\"],[0.5,\"#f7f7f7\"],[0.6,\"#e6f5d0\"],[0.7,\"#b8e186\"],[0.8,\"#7fbc41\"],[0.9,\"#4d9221\"],[1,\"#276419\"]],\"sequential\":[[0.0,\"#0d0887\"],[0.1111111111111111,\"#46039f\"],[0.2222222222222222,\"#7201a8\"],[0.3333333333333333,\"#9c179e\"],[0.4444444444444444,\"#bd3786\"],[0.5555555555555556,\"#d8576b\"],[0.6666666666666666,\"#ed7953\"],[0.7777777777777778,\"#fb9f3a\"],[0.8888888888888888,\"#fdca26\"],[1.0,\"#f0f921\"]],\"sequentialminus\":[[0.0,\"#0d0887\"],[0.1111111111111111,\"#46039f\"],[0.2222222222222222,\"#7201a8\"],[0.3333333333333333,\"#9c179e\"],[0.4444444444444444,\"#bd3786\"],[0.5555555555555556,\"#d8576b\"],[0.6666666666666666,\"#ed7953\"],[0.7777777777777778,\"#fb9f3a\"],[0.8888888888888888,\"#fdca26\"],[1.0,\"#f0f921\"]]},\"colorway\":[\"#636efa\",\"#EF553B\",\"#00cc96\",\"#ab63fa\",\"#FFA15A\",\"#19d3f3\",\"#FF6692\",\"#B6E880\",\"#FF97FF\",\"#FECB52\"],\"font\":{\"color\":\"#f2f5fa\"},\"geo\":{\"bgcolor\":\"rgb(17,17,17)\",\"lakecolor\":\"rgb(17,17,17)\",\"landcolor\":\"rgb(17,17,17)\",\"showlakes\":true,\"showland\":true,\"subunitcolor\":\"#506784\"},\"hoverlabel\":{\"align\":\"left\"},\"hovermode\":\"closest\",\"mapbox\":{\"style\":\"dark\"},\"paper_bgcolor\":\"rgb(17,17,17)\",\"plot_bgcolor\":\"rgb(17,17,17)\",\"polar\":{\"angularaxis\":{\"gridcolor\":\"#506784\",\"linecolor\":\"#506784\",\"ticks\":\"\"},\"bgcolor\":\"rgb(17,17,17)\",\"radialaxis\":{\"gridcolor\":\"#506784\",\"linecolor\":\"#506784\",\"ticks\":\"\"}},\"scene\":{\"xaxis\":{\"backgroundcolor\":\"rgb(17,17,17)\",\"gridcolor\":\"#506784\",\"gridwidth\":2,\"linecolor\":\"#506784\",\"showbackground\":true,\"ticks\":\"\",\"zerolinecolor\":\"#C8D4E3\"},\"yaxis\":{\"backgroundcolor\":\"rgb(17,17,17)\",\"gridcolor\":\"#506784\",\"gridwidth\":2,\"linecolor\":\"#506784\",\"showbackground\":true,\"ticks\":\"\",\"zerolinecolor\":\"#C8D4E3\"},\"zaxis\":{\"backgroundcolor\":\"rgb(17,17,17)\",\"gridcolor\":\"#506784\",\"gridwidth\":2,\"linecolor\":\"#506784\",\"showbackground\":true,\"ticks\":\"\",\"zerolinecolor\":\"#C8D4E3\"}},\"shapedefaults\":{\"line\":{\"color\":\"#f2f5fa\"}},\"sliderdefaults\":{\"bgcolor\":\"#C8D4E3\",\"bordercolor\":\"rgb(17,17,17)\",\"borderwidth\":1,\"tickwidth\":0},\"ternary\":{\"aaxis\":{\"gridcolor\":\"#506784\",\"linecolor\":\"#506784\",\"ticks\":\"\"},\"baxis\":{\"gridcolor\":\"#506784\",\"linecolor\":\"#506784\",\"ticks\":\"\"},\"bgcolor\":\"rgb(17,17,17)\",\"caxis\":{\"gridcolor\":\"#506784\",\"linecolor\":\"#506784\",\"ticks\":\"\"}},\"title\":{\"x\":0.05},\"updatemenudefaults\":{\"bgcolor\":\"#506784\",\"borderwidth\":0},\"xaxis\":{\"automargin\":true,\"gridcolor\":\"#283442\",\"linecolor\":\"#506784\",\"ticks\":\"\",\"title\":{\"standoff\":15},\"zerolinecolor\":\"#283442\",\"zerolinewidth\":2},\"yaxis\":{\"automargin\":true,\"gridcolor\":\"#283442\",\"linecolor\":\"#506784\",\"ticks\":\"\",\"title\":{\"standoff\":15},\"zerolinecolor\":\"#283442\",\"zerolinewidth\":2}}},\"xaxis\":{\"rangeslider\":{\"visible\":false},\"title\":{\"text\":\"Date\"}},\"title\":{\"text\":\"1-Day BTC\\u002fUSDT Candlestick Chart\"},\"yaxis\":{\"title\":{\"text\":\"Price (USDT)\"}}},                        {\"responsive\": true}                    ).then(function(){\n",
              "                            \n",
              "var gd = document.getElementById('077eb1ee-8797-4e24-b4d3-ace89b747576');\n",
              "var x = new MutationObserver(function (mutations, observer) {{\n",
              "        var display = window.getComputedStyle(gd).display;\n",
              "        if (!display || display === 'none') {{\n",
              "            console.log([gd, 'removed!']);\n",
              "            Plotly.purge(gd);\n",
              "            observer.disconnect();\n",
              "        }}\n",
              "}});\n",
              "\n",
              "// Listen for the removal of the full notebook cells\n",
              "var notebookContainer = gd.closest('#notebook-container');\n",
              "if (notebookContainer) {{\n",
              "    x.observe(notebookContainer, {childList: true});\n",
              "}}\n",
              "\n",
              "// Listen for the clearing of the current output cell\n",
              "var outputEl = gd.closest('.output');\n",
              "if (outputEl) {{\n",
              "    x.observe(outputEl, {childList: true});\n",
              "}}\n",
              "\n",
              "                        })                };                            </script>        </div>\n",
              "</body>\n",
              "</html>"
            ]
          },
          "metadata": {},
          "output_type": "display_data"
        }
      ],
      "source": [
        "import plotly.graph_objects as go\n",
        "import pandas as pd\n",
        "\n",
        "# Function to plot 1-Day Candlestick Chart\n",
        "def plot_candlestick(data):\n",
        "    # Convert the fetched data into a DataFrame\n",
        "    df = pd.DataFrame(data)\n",
        "\n",
        "    # Convert 'time_period_start' to datetime\n",
        "    df['time'] = pd.to_datetime(df['time_period_start'])\n",
        "\n",
        "    # Plot using Plotly\n",
        "    fig = go.Figure(data=[go.Candlestick(\n",
        "        x=df['time'],\n",
        "        open=df['price_open'],\n",
        "        high=df['price_high'],\n",
        "        low=df['price_low'],\n",
        "        close=df['price_close'],\n",
        "        name=\"Candlestick Chart\"\n",
        "    )])\n",
        "\n",
        "    # Update layout to make the plot more readable\n",
        "    fig.update_layout(\n",
        "        title=\"1-Day BTC/USDT Candlestick Chart\",\n",
        "        xaxis_title=\"Date\",\n",
        "        yaxis_title=\"Price (USDT)\",\n",
        "        xaxis_rangeslider_visible=False,  # Disable the range slider\n",
        "        template=\"plotly_dark\"  # Optional: Change chart template (e.g., 'plotly_dark')\n",
        "    )\n",
        "\n",
        "    # Show the plot\n",
        "    fig.show()\n",
        "\n",
        "# Example to fetch and plot the data\n",
        "symbol = \"BINANCE_SPOT_BTC_USDT\"\n",
        "time_start = \"2025-01-01T00:00:00\"  # Use a proper timestamp in ISO format\n",
        "period_id = \"1DAY\"\n",
        "\n",
        "# Fetch the 1-day OHLCV data\n",
        "data_1day = fetch_ohlcv(symbol, period_id, (current_time - timedelta(days=90)).isoformat())\n",
        "\n",
        "# Plot the data if it's available\n",
        "if data_1day:\n",
        "    plot_candlestick(data_1day)\n"
      ]
    },
    {
      "cell_type": "code",
      "execution_count": null,
      "metadata": {
        "id": "C4pPHzpUqOcD"
      },
      "outputs": [],
      "source": [
        "last_3_day_sentiment = sentiment_5min\n",
        "last_30_day_sentiment = sentiment_1day\n",
        "last_90_day_sentiment =sentiment_1month"
      ]
    },
    {
      "cell_type": "code",
      "execution_count": null,
      "metadata": {
        "id": "6a0tMhLDqR-d"
      },
      "outputs": [],
      "source": [
        "\n",
        "# Calculate RSI\n",
        "def calculate_rsi(df, period=14):\n",
        "    delta = df['price_close'].diff()\n",
        "    gain = (delta.where(delta > 0, 0)).rolling(window=period).mean()\n",
        "    loss = (-delta.where(delta < 0, 0)).rolling(window=period).mean()\n",
        "    rs = gain / loss\n",
        "    rsi = 100 - (100 / (1 + rs))\n",
        "    return rsi\n",
        "\n",
        "# Calculate Moving Averages\n",
        "def calculate_moving_averages(df, short_window=9, long_window=21):\n",
        "    df['MA_Short'] = df['price_close'].rolling(window=short_window).mean()\n",
        "    df['MA_Long'] = df['price_close'].rolling(window=long_window).mean()\n",
        "    return df\n",
        "\n",
        "# Calculate ATR\n",
        "def calculate_atr(df, period=14):\n",
        "    df['High-Low'] = df['price_high'] - df['price_low']\n",
        "    df['High-Close'] = abs(df['price_high'] - df['price_close'].shift())\n",
        "    df['Low-Close'] = abs(df['price_low'] - df['price_close'].shift())\n",
        "    df['True_Range'] = df[['High-Low', 'High-Close', 'Low-Close']].max(axis=1)\n",
        "    df['ATR'] = df['True_Range'].rolling(window=period).mean()\n",
        "    return df\n",
        "\n",
        "# Fetch and analyze data\n",
        "def analyze_symbol(symbol, period_id, time_start):\n",
        "    data = fetch_ohlcv(symbol, period_id, time_start)\n",
        "    if not data:\n",
        "        print(f\"No data fetched for {symbol} with period {period_id}.\")\n",
        "        return None\n",
        "\n",
        "    df = pd.DataFrame(data)\n",
        "\n",
        "    # Ensure necessary columns are present\n",
        "    if set(['time_period_start', 'price_open', 'price_high', 'price_low', 'price_close']).issubset(df.columns):\n",
        "        df['time_period_start'] = pd.to_datetime(df['time_period_start'])\n",
        "        df = df.sort_values(by='time_period_start')\n",
        "\n",
        "        # Perform analysis\n",
        "        df = calculate_moving_averages(df)\n",
        "        df['RSI'] = calculate_rsi(df)\n",
        "        df = calculate_atr(df)\n",
        "\n",
        "        print(f\"\\n{period_id} Analysis for {symbol}:\")\n",
        "        print(f\"Latest RSI: {df['RSI'].iloc[-1]:.2f}\")\n",
        "        print(f\"Latest ATR: {df['ATR'].iloc[-1]:.2f}\")\n",
        "\n",
        "        # Return the dataframe with analysis for further use\n",
        "        return df\n",
        "    else:\n",
        "        print(f\"Data for {symbol} is missing required columns.\")\n",
        "        return None\n",
        "\n",
        "# Main execution\n",
        "current_time = datetime.utcnow()\n",
        "start_times = {\n",
        "    \"5MIN\": (current_time - timedelta(days=3)).isoformat(),\n",
        "    \"1DAY\": (current_time - timedelta(days=30)).isoformat(),\n",
        "    \"1MTH\": (current_time - timedelta(days=90)).isoformat()\n",
        "}\n",
        "\n",
        "symbol = \"BINANCE_SPOT_BTC_USDT\"\n",
        "analyze_data ={}\n",
        "for period_id, time_start in start_times.items():\n",
        "    analyze_data[period_id] = analyze_symbol(symbol, period_id, time_start)"
      ]
    },
    {
      "cell_type": "markdown",
      "metadata": {
        "id": "900IsM4uqE2J"
      },
      "source": [
        "# **Step 3: Initialize the Google Gemini LLM**"
      ]
    },
    {
      "cell_type": "code",
      "execution_count": 6,
      "metadata": {
        "colab": {
          "base_uri": "https://localhost:8080/"
        },
        "id": "Xlo5tQXi2C_d",
        "outputId": "c6167795-b76f-424a-8d3c-987a52bbe4a3"
      },
      "outputs": [
        {
          "name": "stdout",
          "output_type": "stream",
          "text": [
            "\u001b[?25l   \u001b[90m━━━━━━━━━━━━━━━━━━━━━━━━━━━━━━━━━━━━━━━━\u001b[0m \u001b[32m0.0/41.5 kB\u001b[0m \u001b[31m?\u001b[0m eta \u001b[36m-:--:--\u001b[0m\r\u001b[2K   \u001b[90m━━━━━━━━━━━━━━━━━━━━━━━━━━━━━━━━━━━━━━━━\u001b[0m \u001b[32m41.5/41.5 kB\u001b[0m \u001b[31m2.2 MB/s\u001b[0m eta \u001b[36m0:00:00\u001b[0m\n",
            "\u001b[?25h"
          ]
        }
      ],
      "source": [
        "!pip install --quiet langchain\n",
        "!pip install --quiet langchain-google-genai"
      ]
    },
    {
      "cell_type": "code",
      "execution_count": null,
      "metadata": {
        "id": "66RcvZ25Ii0Q"
      },
      "outputs": [],
      "source": [
        "pip install -U langchain-community"
      ]
    },
    {
      "cell_type": "code",
      "execution_count": 8,
      "metadata": {
        "colab": {
          "base_uri": "https://localhost:8080/"
        },
        "id": "l7zJ0tDNIKIp",
        "outputId": "eda55f93-a327-403e-cf82-718a98ca064b"
      },
      "outputs": [
        {
          "name": "stderr",
          "output_type": "stream",
          "text": [
            "WARNING:langchain_community.utils.user_agent:USER_AGENT environment variable not set, consider setting it to identify your requests.\n"
          ]
        }
      ],
      "source": [
        "from langchain import PromptTemplate\n",
        "from langchain.document_loaders import WebBaseLoader\n",
        "from langchain.schema import StrOutputParser\n",
        "from langchain.schema.prompt_template import format_document"
      ]
    },
    {
      "cell_type": "code",
      "execution_count": 9,
      "metadata": {
        "id": "UVBrs2HHIMkv"
      },
      "outputs": [],
      "source": [
        "from langchain_google_genai import ChatGoogleGenerativeAI\n",
        "\n",
        "\n",
        "llm = ChatGoogleGenerativeAI(model=\"gemini-pro\", google_api_key=GOOGLE_GEMINI_API_KEY,\n",
        "                 temperature=0.7, top_p=0.85)"
      ]
    },
    {
      "cell_type": "markdown",
      "metadata": {
        "id": "NqAEylfCqZOR"
      },
      "source": [
        "# **Step 4: Generate the Prompt**"
      ]
    },
    {
      "cell_type": "code",
      "execution_count": 13,
      "metadata": {
        "id": "zF0691okQBxE"
      },
      "outputs": [],
      "source": [
        "\n",
        "prompt = f'''\n",
        "You are a highly skilled cryptocurrency analyst with expertise in technical analysis, sentiment evaluation, and market trends.\n",
        "\n",
        "### Input Data\n",
        "1. **Latest BTC News:**\n",
        "{result['results']}\n",
        "\n",
        "2. **Technical Chart Data:**\n",
        "Analyze the following BTC/USDT price movements:\n",
        "\n",
        "- 5-Minute Chart (last 3 days): Sentiment is {last_3_day_sentiment},\n",
        "  Latest RSI: {analyze_data['5MIN']['RSI'].iloc[-1]}, Latest ATR: {analyze_data['5MIN']['ATR'].iloc[-1]}\n",
        "- 1-Day Chart (last 30 days): Sentiment is {last_30_day_sentiment},\n",
        "  Latest RSI: {analyze_data['1DAY']['RSI'].iloc[-1]}, Latest ATR: {analyze_data['1DAY']['ATR'].iloc[-1]}\n",
        "- 1-Month Chart (last 90 days): Sentiment is {last_90_day_sentiment}\n",
        "\n",
        "### Task\n",
        "Analyze the provided data to suggest potential trades for BTC/USDT.\n",
        "\n",
        "If there are valid trade opportunities, return a list of trades in JSON format. For each trade suggestion, include the following:\n",
        "- `trade_type`: (buy/sell)\n",
        "- `entry_price`: Suggested entry price\n",
        "- `stop_loss`: Suggested stop loss\n",
        "- `take_profit`: Suggested take profit\n",
        "- `symbol`: BTC/USDT\n",
        "- `reason`: A concise explanation of the trade rationale, including news impact, sentiment, and chart patterns.\n",
        "\n",
        "If no valid trades are available, return an empty list (`[]`) along with a detailed reasoning for why no trades are recommended at this time.\n",
        "\n",
        "### Rules:\n",
        "- Avoid suggesting trades if there is high uncertainty or conflicting indicators.\n",
        "- Base decisions on sentiment consistency, price patterns, and market momentum.\n",
        "- Provide actionable and precise output.\n",
        "\n",
        "### Output Format:\n",
        "Output only in JSON format with the following structure:\n",
        "{{\n",
        "    \"trades\": [  // Array of trade objects if trades are available\n",
        "        {{\n",
        "            \"trade_type\": \"buy\",\n",
        "            \"entry_price\": 42000,\n",
        "            \"stop_loss\": 41500,\n",
        "            \"take_profit\": 44000,\n",
        "            \"symbol\": \"BTC/USDT\",\n",
        "            \"reason\": \"Bullish sentiment across all timeframes and positive market news indicating price breakout.\"\n",
        "        }}\n",
        "    ],\n",
        "    \"reasoning\": \"Detailed reasoning for the current market situation and why no trades are recommended.\"\n",
        "}}\n",
        "\n",
        "'''\n"
      ]
    },
    {
      "cell_type": "code",
      "execution_count": 31,
      "metadata": {
        "id": "BFPKXuzefbk_"
      },
      "outputs": [],
      "source": [
        "ok = llm.invoke(prompt)\n"
      ]
    },
    {
      "cell_type": "code",
      "execution_count": 32,
      "metadata": {
        "colab": {
          "base_uri": "https://localhost:8080/"
        },
        "id": "ipwuhqYemJ08",
        "outputId": "609c7de1-379c-4c82-e5e1-abda29689e52"
      },
      "outputs": [
        {
          "name": "stdout",
          "output_type": "stream",
          "text": [
            "{\n",
            "    \"trades\": [],\n",
            "    \"reasoning\": \"The technical analysis and news sentiment do not align to provide clear trading opportunities at this time. While the long-term sentiment is bullish, the 5-minute chart sentiment is bearish, indicating a potential correction. Given this mixed sentiment, it is prudent to wait for a more decisive trend or a clearer setup before initiating a trade.\"\n",
            "}\n"
          ]
        }
      ],
      "source": [
        "import json\n",
        "\n",
        "# Assuming `ok.content` is the response in JSON format\n",
        "formatted_content = json.loads(ok.content)  # Parse the JSON content from ok.content\n",
        "print(json.dumps(formatted_content, indent=4))  # Print the formatted JSON"
      ]
    },
    {
      "cell_type": "markdown",
      "metadata": {
        "id": "oUO6OvYMlgWT"
      },
      "source": [
        "# **Step 5: Take the trade on Hyperliquid**"
      ]
    },
    {
      "cell_type": "code",
      "execution_count": null,
      "metadata": {
        "id": "oxNiWh4beubW"
      },
      "outputs": [],
      "source": [
        "!pip install hyperliquid-python-sdk\n",
        "from hyperliquid.info import Info\n",
        "from hyperliquid.utils import constants\n",
        "import json\n",
        "\n",
        "info = Info(constants.TESTNET_API_URL, skip_ws=True)\n",
        "\n",
        "# This is an example address, when you start trading this should be replaced with your address\n",
        "user_state = info.user_state(\"0xcd5051944f780a621ee62e39e493c489668acf4d\")\n",
        "print(json.dumps(user_state, indent=2))\n",
        "\n",
        "# if you're getting an error or no user_state here make sure your environment variables are set correctly and that all requirements are installed"
      ]
    }
  ],
  "metadata": {
    "colab": {
      "provenance": []
    },
    "kernelspec": {
      "display_name": "Python 3",
      "name": "python3"
    },
    "language_info": {
      "name": "python"
    }
  },
  "nbformat": 4,
  "nbformat_minor": 0
}
